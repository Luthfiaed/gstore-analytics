{
 "cells": [
  {
   "cell_type": "code",
   "execution_count": 1,
   "metadata": {
    "collapsed": true,
    "jupyter": {
     "outputs_hidden": true
    }
   },
   "outputs": [],
   "source": [
    "import numpy as np \n",
    "import pandas as pd\n",
    "import matplotlib.pyplot as plt\n",
    "import seaborn as sns\n",
    "import json\n",
    "import ast\n",
    "import time\n",
    "import gc\n",
    "import os\n",
    "from itertools import product\n",
    "from sklearn.preprocessing import LabelEncoder\n",
    "from sklearn.metrics import mean_squared_error\n",
    "from sklearn.model_selection import train_test_split\n",
    "import xgboost"
   ]
  },
  {
   "cell_type": "markdown",
   "metadata": {},
   "source": [
    "<h3>1. Load and Clean Data</h3>\n",
    "<p>- Load data and unpack json sub-columns<br>\n",
    "- We will exclude columns that only contain one value (not unique)<br>\n",
    "- Fill in null values and set data type<br>\n",
    "- Encode categorical features</p>"
   ]
  },
  {
   "cell_type": "code",
   "execution_count": 3,
   "metadata": {
    "collapsed": true,
    "jupyter": {
     "outputs_hidden": true
    }
   },
   "outputs": [],
   "source": [
    "'''\n",
    "DEFINE FUNCTION TO LOAD DATA\n",
    "- load nested json as separate columns\n",
    "- separate date elements into different columns\n",
    "- load data with chunksize 1000 because data size is big\n",
    "'''\n",
    "\n",
    "def json_to_column(column_with_nested_json, nested_key):\n",
    "    column = json.loads(column_with_nested_json)\n",
    "    try:\n",
    "        return column[nested_key]\n",
    "    except:\n",
    "        return float('NaN') \n",
    "\n",
    "def process_df(df):\n",
    "    json_cols = {'totals':['hits', 'pageviews', 'bounces', 'newVisits', 'sessionQualityDim', 'transactionRevenue'],\n",
    "                 'trafficSource':['campaign', 'source', 'medium', 'keyword'],\n",
    "                 'device':['browser', 'operatingSystem', 'isMobile', 'deviceCategory'],\n",
    "                 'geoNetwork':['continent', 'subContinent', 'country']}\n",
    "\n",
    "    for key, val in json_cols.items():\n",
    "        for item in val:\n",
    "            col_name = '{}_{}'.format(key, item)\n",
    "            df[col_name] = df[key].apply(lambda x: json_to_column(x, item))\n",
    "    \n",
    "    # filling in nan values\n",
    "    df['totals_hits'].fillna(0, inplace=True)\n",
    "    df['totals_pageviews'].fillna(0, inplace=True)\n",
    "    df['totals_bounces'].fillna(0, inplace=True)\n",
    "    df['totals_newVisits'].fillna(0, inplace=True)\n",
    "    df['totals_sessionQualityDim'].fillna(0, inplace=True)\n",
    "    df['totals_transactionRevenue'].fillna(0, inplace=True)\n",
    "\n",
    "    # casting numerical columns to float/int\n",
    "    df['totals_hits'] = df['totals_hits'].astype(int)\n",
    "    df['totals_pageviews'] = df['totals_pageviews'].astype(int)\n",
    "    df['totals_bounces'] = df['totals_bounces'].astype(int)\n",
    "    df['totals_newVisits']= df['totals_newVisits'].astype(int)\n",
    "    df['totals_sessionQualityDim']= df['totals_sessionQualityDim'].astype('float32')\n",
    "    df['totals_transactionRevenue'] = df['totals_transactionRevenue'].astype('float32')\n",
    "    \n",
    "    # parse date elements to separate columns\n",
    "    df['days'] = df['date'].str[-2:]\n",
    "    df['days'] = df['days'].astype(int)\n",
    "    df['month'] = df['date'].str[-4:-2]\n",
    "    df['month'] = df['month'].astype(int)\n",
    "    df['year'] = df['date'].str[:4]\n",
    "    df['year'] = df['year'].astype(int)\n",
    "    \n",
    "    # remove unwanted columns\n",
    "    # <hits> and <customDimensions> contain nested jstor that is too complex and does not contain crucial information\n",
    "    # <socialEngagementType> is non-unique\n",
    "    to_remove = ['hits', 'socialEngagementType', 'customDimensions']\n",
    "    df.drop(list(json_cols.keys()) + to_remove, axis=1, inplace=True)\n",
    "\n",
    "\n",
    "def load_data(file, nrows_load=None):\n",
    "    df_res = pd.DataFrame()\n",
    "    df_reader = pd.read_csv(file,\n",
    "                            dtype={'date': str, 'fullVisitorId': str},\n",
    "                            chunksize=10000)\n",
    "    \n",
    "    for index, df in enumerate(df_reader):\n",
    "        df.reset_index(drop=True, inplace=True)   \n",
    "        process_df(df)\n",
    "        df_res = pd.concat([df_res, df], axis=0).reset_index(drop=True)\n",
    "        \n",
    "        # free memory space\n",
    "        del df\n",
    "        gc.collect()\n",
    "        \n",
    "        # print every 20 iterations so we know the progress\n",
    "        if index % 20 == 0:\n",
    "            print('{}: rows loaded: {}'.format(index, df_res.shape[0]))\n",
    "            \n",
    "        # if we only want to load <nrows_load> rows\n",
    "        if nrows_load:\n",
    "            if df_res.shape[0] >= nrows_load:\n",
    "                break\n",
    "    return df_res"
   ]
  },
  {
   "cell_type": "code",
   "execution_count": 4,
   "metadata": {
    "collapsed": true,
    "jupyter": {
     "outputs_hidden": true
    }
   },
   "outputs": [
    {
     "name": "stdout",
     "output_type": "stream",
     "text": [
      "0: rows loaded: 10000\n",
      "20: rows loaded: 210000\n",
      "40: rows loaded: 410000\n",
      "60: rows loaded: 610000\n",
      "80: rows loaded: 810000\n",
      "100: rows loaded: 1010000\n",
      "120: rows loaded: 1210000\n",
      "140: rows loaded: 1410000\n",
      "160: rows loaded: 1610000\n",
      "Wall time: 13min 3s\n"
     ]
    }
   ],
   "source": [
    "%%time\n",
    "dfTrain = load_data(\"./raw_train.csv\")"
   ]
  },
  {
   "cell_type": "code",
   "execution_count": 5,
   "metadata": {
    "collapsed": true,
    "jupyter": {
     "outputs_hidden": true
    }
   },
   "outputs": [
    {
     "name": "stdout",
     "output_type": "stream",
     "text": [
      "0: rows loaded: 10000\n",
      "20: rows loaded: 210000\n",
      "40: rows loaded: 401589\n",
      "Wall time: 2min 52s\n"
     ]
    }
   ],
   "source": [
    "%%time\n",
    "dfTest = load_data(\"./raw_test.csv\")"
   ]
  },
  {
   "cell_type": "code",
   "execution_count": 6,
   "metadata": {
    "collapsed": true,
    "jupyter": {
     "outputs_hidden": true
    }
   },
   "outputs": [],
   "source": [
    "# Keyword column contains some null\n",
    "dfTrain['trafficSource_keyword'].fillna(0, inplace=True)\n",
    "dfTest['trafficSource_keyword'].fillna(0, inplace=True)"
   ]
  },
  {
   "cell_type": "code",
   "execution_count": 7,
   "metadata": {
    "collapsed": true,
    "jupyter": {
     "outputs_hidden": true
    }
   },
   "outputs": [],
   "source": [
    "# Encode categorical features\n",
    "def encode_df(df):\n",
    "    # encode categorical columns\n",
    "    columns_to_encode = ['channelGrouping', 'trafficSource_campaign', 'trafficSource_source', 'trafficSource_medium',\n",
    "                         'trafficSource_keyword', 'device_browser', 'device_operatingSystem', 'device_deviceCategory',\n",
    "                         'geoNetwork_continent', 'geoNetwork_subContinent', 'geoNetwork_country']\n",
    "    \n",
    "    for col in columns_to_encode:\n",
    "        print(col)\n",
    "        label_encoder = LabelEncoder()\n",
    "        label_encoder.fit(list(dfTrain[col].values.astype('str')) + list(dfTest[col].values.astype('str')))\n",
    "        df[col] = label_encoder.transform(list(df[col].values.astype('str')))\n",
    "    \n",
    "    return df"
   ]
  },
  {
   "cell_type": "code",
   "execution_count": 8,
   "metadata": {
    "collapsed": true,
    "jupyter": {
     "outputs_hidden": true
    }
   },
   "outputs": [
    {
     "name": "stdout",
     "output_type": "stream",
     "text": [
      "channelGrouping\n",
      "trafficSource_campaign\n",
      "trafficSource_source\n",
      "trafficSource_medium\n",
      "trafficSource_keyword\n",
      "device_browser\n",
      "device_operatingSystem\n",
      "device_deviceCategory\n",
      "geoNetwork_continent\n",
      "geoNetwork_subContinent\n",
      "geoNetwork_country\n",
      "Wall time: 2min 28s\n"
     ]
    }
   ],
   "source": [
    "%%time\n",
    "train_enc = encode_df(dfTrain)"
   ]
  },
  {
   "cell_type": "code",
   "execution_count": 9,
   "metadata": {
    "collapsed": true,
    "jupyter": {
     "outputs_hidden": true
    }
   },
   "outputs": [
    {
     "name": "stdout",
     "output_type": "stream",
     "text": [
      "channelGrouping\n",
      "trafficSource_campaign\n",
      "trafficSource_source\n",
      "trafficSource_medium\n",
      "trafficSource_keyword\n",
      "device_browser\n",
      "device_operatingSystem\n",
      "device_deviceCategory\n",
      "geoNetwork_continent\n",
      "geoNetwork_subContinent\n",
      "geoNetwork_country\n",
      "Wall time: 1min 54s\n"
     ]
    }
   ],
   "source": [
    "%%time\n",
    "test_enc = encode_df(dfTest)"
   ]
  },
  {
   "cell_type": "markdown",
   "metadata": {},
   "source": [
    "<h3>2. Feature Engineering</h3>\n",
    "<p>\n",
    "    - Aggregate feature per user<br>\n",
    "    - Split training data for training and validation\n",
    "</p>"
   ]
  },
  {
   "cell_type": "code",
   "execution_count": 10,
   "metadata": {
    "collapsed": true,
    "jupyter": {
     "outputs_hidden": true
    }
   },
   "outputs": [
    {
     "name": "stdout",
     "output_type": "stream",
     "text": [
      "Wall time: 4min 59s\n",
      "Compiler : 140 ms\n",
      "Parser   : 199 ms\n"
     ]
    }
   ],
   "source": [
    "%%time\n",
    "# Aggregate Data per user\n",
    "to_sum = ['totals_hits', 'totals_pageviews', 'totals_bounces', 'totals_newVisits', 'totals_transactionRevenue']\n",
    "to_mean = ['totals_hits','totals_pageviews', 'totals_bounces', 'totals_newVisits', 'totals_sessionQualityDim']\n",
    "to_std = ['totals_hits', 'totals_pageviews']\n",
    "to_median = ['channelGrouping', 'trafficSource_campaign', 'trafficSource_source', 'trafficSource_medium', 'trafficSource_keyword',\n",
    "             'device_browser', 'device_operatingSystem', 'device_isMobile', 'device_deviceCategory',\n",
    "             'geoNetwork_continent', 'geoNetwork_subContinent', 'geoNetwork_country']\n",
    "\n",
    "dfTrain_agg = pd.concat([dfTrain.groupby('fullVisitorId')[to_median].median().add_suffix('_median'),\n",
    "                         dfTrain.groupby('fullVisitorId')[to_sum].sum().add_suffix('_sum'),\n",
    "                         dfTrain.groupby('fullVisitorId')[to_mean].mean().add_suffix('_mean'),\n",
    "                         dfTrain.groupby('fullVisitorId')[to_std].std(ddof=0).add_suffix('_std')], axis=1).reset_index()\n",
    "\n",
    "dfTest_agg = pd.concat([dfTest.groupby('fullVisitorId')[to_median].median().add_suffix('_median'),\n",
    "                        dfTest.groupby('fullVisitorId')[to_sum].sum().add_suffix('_sum'),\n",
    "                        dfTest.groupby('fullVisitorId')[to_mean].mean().add_suffix('_mean'),\n",
    "                        dfTest.groupby('fullVisitorId')[to_std].std(ddof=0).add_suffix('_std')], axis=1).reset_index()"
   ]
  },
  {
   "cell_type": "code",
   "execution_count": 11,
   "metadata": {
    "collapsed": true,
    "jupyter": {
     "outputs_hidden": true
    }
   },
   "outputs": [],
   "source": [
    "# Split Train dataset into training and validation\n",
    "X = dfTrain_agg[dfTrain_agg.columns[~dfTrain_agg.columns.isin(['totals_transactionRevenue_sum', 'fullVisitorId'])]]\n",
    "Y = np.log1p(dfTrain_agg['totals_transactionRevenue_sum'])\n",
    "X_train, X_val, y_train, y_val = train_test_split(X, Y, test_size=0.3, random_state=1)\n",
    "\n",
    "# Final Test Dataset for Submission\n",
    "X_test = dfTest_agg[dfTest_agg.columns[~dfTest_agg.columns.isin(['totals_transactionRevenue_sum', 'fullVisitorId'])]]\n",
    "Y_test = np.log1p(dfTest_agg['totals_transactionRevenue_sum'])"
   ]
  },
  {
   "cell_type": "code",
   "execution_count": 12,
   "metadata": {
    "collapsed": true,
    "jupyter": {
     "outputs_hidden": true
    }
   },
   "outputs": [],
   "source": [
    "# We dont need to separate the matrix into train and test because we will use cross validation method\n",
    "all_matrix = xgboost.DMatrix(X, label=Y)"
   ]
  },
  {
   "cell_type": "markdown",
   "metadata": {},
   "source": [
    "<h3>3. Train XGBoost Model</h3>\n",
    "<p>\n",
    "    - Compute baseline RMSE score (RMSE score based on prediction \"with no effort\")\n",
    "</p>"
   ]
  },
  {
   "cell_type": "code",
   "execution_count": 13,
   "metadata": {
    "collapsed": true,
    "jupyter": {
     "outputs_hidden": true
    }
   },
   "outputs": [
    {
     "name": "stdout",
     "output_type": "stream",
     "text": [
      "RMSE score of baseline prediction is: 1.95365198550834\n"
     ]
    }
   ],
   "source": [
    "# Baseline prediction (mean of target in train data)\n",
    "baseline_pred = np.ones(y_val.shape) * np.mean(y_train)\n",
    "\n",
    "# Compute RMSE score of baseline prediction\n",
    "rmse_baseline = np.sqrt(mean_squared_error(y_val, baseline_pred))\n",
    "\n",
    "print(\"RMSE score of baseline prediction is: {}\".format(rmse_baseline))"
   ]
  },
  {
   "cell_type": "code",
   "execution_count": 14,
   "metadata": {
    "collapsed": true,
    "jupyter": {
     "outputs_hidden": true
    }
   },
   "outputs": [],
   "source": [
    "# Default parameter values\n",
    "xgb_params = {\n",
    "    'objective': 'reg:squarederror',\n",
    "    'max_depth': 6,\n",
    "    'min_child_weight': 1,\n",
    "    'eta': 0.3,\n",
    "    'gamma': 0,\n",
    "    'alpha': 0,\n",
    "    'lambda': 1,\n",
    "    'subsample': 1,\n",
    "    'eval_metric': 'rmse',\n",
    "}"
   ]
  },
  {
   "cell_type": "code",
   "execution_count": 15,
   "metadata": {
    "collapsed": true,
    "jupyter": {
     "outputs_hidden": true
    }
   },
   "outputs": [
    {
     "name": "stdout",
     "output_type": "stream",
     "text": [
      "Wall time: 2min 11s\n"
     ]
    }
   ],
   "source": [
    "%%time\n",
    "# Xgboost model with default parameter value\n",
    "default_cv = xgboost.cv(xgb_params, all_matrix, num_boost_round=1000,\n",
    "                        seed=42, nfold=3, metrics='rmse',\n",
    "                        early_stopping_rounds=50, as_pandas=True)"
   ]
  },
  {
   "cell_type": "code",
   "execution_count": 172,
   "metadata": {
    "collapsed": true,
    "jupyter": {
     "outputs_hidden": true
    }
   },
   "outputs": [
    {
     "name": "stdout",
     "output_type": "stream",
     "text": [
      "RMSE score of baseline prediction is: 1.95365198550834\n",
      "RMSE score of default model (without hyperparameter tuning): 1.5396633333333332\n"
     ]
    }
   ],
   "source": [
    "# Minimum RMSE from model with default parameter\n",
    "rmse_default = default_cv['test-rmse-mean'].min()\n",
    "\n",
    "print(\"RMSE score of baseline prediction is: {}\".format(rmse_baseline))\n",
    "print(\"RMSE score of default model (without hyperparameter tuning): {}\".format(rmse_default))"
   ]
  },
  {
   "cell_type": "code",
   "execution_count": 16,
   "metadata": {
    "collapsed": true,
    "jupyter": {
     "outputs_hidden": true
    }
   },
   "outputs": [],
   "source": [
    "# Define function for hyperparameter tuning\n",
    "def tune_hyperparameter(hyperparams_dict) :  # input as dictionary {'hyperparameter':[values to try]}\n",
    "    keys_list = list(hyperparams_dict.keys())\n",
    "    print('Tuning for Hyperparameters: {}'.format(', '.join(keys_list)))\n",
    "    value_list = list(hyperparams_dict[key] for key in keys_list)\n",
    "    value_combination = [*product(*value_list)]\n",
    "    \n",
    "    min_rmse = float(\"Inf\")\n",
    "    best_hyperparams = None\n",
    "    best_cv = None\n",
    "    \n",
    "    print('Total Hyperparameter Combinations to Try: {}'.format(len(value_combination)))\n",
    "    for combination_idx in range(len(value_combination)):\n",
    "        print(\"Computing CV Score for Combination No.{}\".format(combination_idx + 1))\n",
    "    \n",
    "        # Update our hyperparameter dictionary with each iteration\n",
    "        i = 0\n",
    "        while i < len(hyperparams_dict):\n",
    "            xgb_params[keys_list[i]] = value_combination[combination_idx][i]\n",
    "            i += 1\n",
    "        \n",
    "        # Compute RMSE score using CV\n",
    "        cv_result = xgboost.cv(xgb_params, all_matrix, num_boost_round=1000,\n",
    "                               seed=42, nfold=3, metrics='rmse',\n",
    "                               early_stopping_rounds=50, as_pandas=True)    \n",
    "    \n",
    "        # Update best RMSE after each value combination\n",
    "        best_rmse = cv_result['test-rmse-mean'].min()\n",
    "        best_round = cv_result['test-rmse-mean'].argmin()\n",
    "        print(\"\\t Best RMSE for Combination No.{} = {} for {} rounds\".format(combination_idx + 1, best_rmse, best_round))\n",
    "    \n",
    "        # Update min rmse score if performs better than previous hyperparameter value\n",
    "        if best_rmse < min_rmse:\n",
    "            min_rmse = best_rmse\n",
    "            best_params = [*zip(keys_list, value_combination[combination_idx])]\n",
    "            best_cv = cv_result\n",
    "    \n",
    "    # Update original hyperparameter dictionary with the best value\n",
    "    for hyperparameter, value in best_params:\n",
    "        xgb_params[hyperparameter] = value\n",
    "    \n",
    "    print('Best RMSE using Hyperparameter Combination {}: {}'.format(best_params, min_rmse))\n",
    "    return value_combination, best_params"
   ]
  },
  {
   "cell_type": "code",
   "execution_count": 17,
   "metadata": {
    "collapsed": true,
    "jupyter": {
     "outputs_hidden": true
    }
   },
   "outputs": [
    {
     "name": "stdout",
     "output_type": "stream",
     "text": [
      "Tuning for Hyperparameters: gamma, alpha, lambda\n",
      "Total Hyperparameter Combinations to Try: 9\n",
      "Computing CV Score for Combination No.1\n",
      "\t Best RMSE for Combination No.1 = 1.5386986666666669 for 39 rounds\n",
      "Computing CV Score for Combination No.2\n",
      "\t Best RMSE for Combination No.2 = 1.5377340000000002 for 28 rounds\n",
      "Computing CV Score for Combination No.3\n",
      "\t Best RMSE for Combination No.3 = 1.537104 for 32 rounds\n",
      "Computing CV Score for Combination No.4\n",
      "\t Best RMSE for Combination No.4 = 1.5376866666666666 for 33 rounds\n",
      "Computing CV Score for Combination No.5\n",
      "\t Best RMSE for Combination No.5 = 1.5370696666666668 for 31 rounds\n",
      "Computing CV Score for Combination No.6\n",
      "\t Best RMSE for Combination No.6 = 1.537469 for 34 rounds\n",
      "Computing CV Score for Combination No.7\n",
      "\t Best RMSE for Combination No.7 = 1.5380346666666664 for 34 rounds\n",
      "Computing CV Score for Combination No.8\n",
      "\t Best RMSE for Combination No.8 = 1.5370773333333332 for 21 rounds\n",
      "Computing CV Score for Combination No.9\n",
      "\t Best RMSE for Combination No.9 = 1.5376389999999998 for 33 rounds\n",
      "Best RMSE using Hyperparameter Combination [('gamma', 1.3), ('alpha', 0.1), ('lambda', 2.3)]: 1.5370696666666668\n",
      "Wall time: 19min 48s\n"
     ]
    }
   ],
   "source": [
    "%%time\n",
    "# Tune Gamma, Alpha, and Lambda values\n",
    "gal_dict = {'gamma': [1.3],\n",
    "            'alpha': [0.03, 0.1, 0.3],\n",
    "            'lambda':[2, 2.3, 3]}\n",
    "\n",
    "gal_combo, gal_best_params = tune_hyperparameter(gal_dict)"
   ]
  },
  {
   "cell_type": "code",
   "execution_count": 18,
   "metadata": {
    "collapsed": true,
    "jupyter": {
     "outputs_hidden": true
    }
   },
   "outputs": [
    {
     "name": "stdout",
     "output_type": "stream",
     "text": [
      "Tuning for Hyperparameters: eta\n",
      "Total Hyperparameter Combinations to Try: 4\n",
      "Computing CV Score for Combination No.1\n",
      "\t Best RMSE for Combination No.1 = 1.5301843333333334 for 774 rounds\n",
      "Computing CV Score for Combination No.2\n",
      "\t Best RMSE for Combination No.2 = 1.5307169999999999 for 224 rounds\n",
      "Computing CV Score for Combination No.3\n",
      "\t Best RMSE for Combination No.3 = 1.5313376666666667 for 148 rounds\n",
      "Computing CV Score for Combination No.4\n",
      "\t Best RMSE for Combination No.4 = 1.545594333333333 for 16 rounds\n",
      "Best RMSE using Hyperparameter Combination [('eta', 0.02)]: 1.5301843333333334\n",
      "Wall time: 36min 17s\n"
     ]
    }
   ],
   "source": [
    "%%time\n",
    "# Tune eta/learning rate value\n",
    "eta_dict = {'eta': [0.02, 0.07, 0.1, 0.5]}\n",
    "eta_combo, eta_best_params = tune_hyperparameter(eta_dict)"
   ]
  },
  {
   "cell_type": "code",
   "execution_count": 19,
   "metadata": {
    "collapsed": true,
    "jupyter": {
     "outputs_hidden": true
    }
   },
   "outputs": [
    {
     "name": "stdout",
     "output_type": "stream",
     "text": [
      "Tuning for Hyperparameters: subsample\n",
      "Total Hyperparameter Combinations to Try: 3\n",
      "Computing CV Score for Combination No.1\n",
      "\t Best RMSE for Combination No.1 = 1.5338023333333333 for 405 rounds\n",
      "Computing CV Score for Combination No.2\n",
      "\t Best RMSE for Combination No.2 = 1.5310030000000001 for 544 rounds\n",
      "Computing CV Score for Combination No.3\n",
      "\t Best RMSE for Combination No.3 = 1.5295440000000002 for 569 rounds\n",
      "Best RMSE using Hyperparameter Combination [('subsample', 0.8)]: 1.5295440000000002\n",
      "Wall time: 50min 16s\n",
      "Parser   : 148 ms\n"
     ]
    }
   ],
   "source": [
    "%%time\n",
    "# Tune subsample value\n",
    "subsample_dict = {'subsample': [0.2, 0.5, 0.8]}\n",
    "subsample_combo, subsample_best_params = tune_hyperparameter(subsample_dict)"
   ]
  },
  {
   "cell_type": "code",
   "execution_count": 20,
   "metadata": {
    "collapsed": true,
    "jupyter": {
     "outputs_hidden": true
    }
   },
   "outputs": [
    {
     "name": "stdout",
     "output_type": "stream",
     "text": [
      "Tuning for Hyperparameters: max_depth\n",
      "Total Hyperparameter Combinations to Try: 3\n",
      "Computing CV Score for Combination No.1\n",
      "\t Best RMSE for Combination No.1 = 1.5260046666666665 for 293 rounds\n",
      "Computing CV Score for Combination No.2\n",
      "\t Best RMSE for Combination No.2 = 1.5282393333333333 for 176 rounds\n",
      "Computing CV Score for Combination No.3\n",
      "\t Best RMSE for Combination No.3 = 1.5413646666666667 for 132 rounds\n",
      "Best RMSE using Hyperparameter Combination [('max_depth', 8)]: 1.5260046666666665\n",
      "Wall time: 48min 46s\n"
     ]
    }
   ],
   "source": [
    "%%time\n",
    "# Tune max depth value\n",
    "maxdepth_dict = {'max_depth': [8, 11, 14]}\n",
    "maxdepth_combo, maxdepth_best_params = tune_hyperparameter(maxdepth_dict)"
   ]
  },
  {
   "cell_type": "code",
   "execution_count": 21,
   "metadata": {
    "collapsed": true,
    "jupyter": {
     "outputs_hidden": true
    }
   },
   "outputs": [
    {
     "name": "stdout",
     "output_type": "stream",
     "text": [
      "Tuning for Hyperparameters: min_child_weight\n",
      "Total Hyperparameter Combinations to Try: 3\n",
      "Computing CV Score for Combination No.1\n",
      "\t Best RMSE for Combination No.1 = 1.5261673333333334 for 296 rounds\n",
      "Computing CV Score for Combination No.2\n",
      "\t Best RMSE for Combination No.2 = 1.5262556666666667 for 300 rounds\n",
      "Computing CV Score for Combination No.3\n",
      "\t Best RMSE for Combination No.3 = 1.5263183333333332 for 308 rounds\n",
      "Best RMSE using Hyperparameter Combination [('min_child_weight', 67)]: 1.5261673333333334\n",
      "Wall time: 48min 51s\n"
     ]
    }
   ],
   "source": [
    "%%time\n",
    "# Tune minimum child weight value\n",
    "minchildweight_dict = {'min_child_weight': [67, 68, 69]}\n",
    "minchildweight_combo, minchildweight_params = tune_hyperparameter(minchildweight_dict)"
   ]
  },
  {
   "cell_type": "code",
   "execution_count": 22,
   "metadata": {
    "collapsed": true,
    "jupyter": {
     "outputs_hidden": true
    }
   },
   "outputs": [
    {
     "name": "stdout",
     "output_type": "stream",
     "text": [
      "Best Hyperparameter Values after Tuning: \n",
      " {'objective': 'reg:squarederror', 'max_depth': 8, 'min_child_weight': 67, 'eta': 0.02, 'gamma': 1.3, 'alpha': 0.1, 'lambda': 2.3, 'subsample': 0.8, 'eval_metric': 'rmse'}\n"
     ]
    }
   ],
   "source": [
    "print(\"Best Hyperparameter Values after Tuning: \\n {}\".format(xgb_params))"
   ]
  },
  {
   "cell_type": "code",
   "execution_count": 23,
   "metadata": {
    "collapsed": true,
    "jupyter": {
     "outputs_hidden": true
    }
   },
   "outputs": [
    {
     "name": "stdout",
     "output_type": "stream",
     "text": [
      "[0]\tvalidation_0-rmse:1.95890\n",
      "[1]\tvalidation_0-rmse:1.94547\n",
      "[2]\tvalidation_0-rmse:1.93067\n",
      "[3]\tvalidation_0-rmse:1.91783\n",
      "[4]\tvalidation_0-rmse:1.90434\n",
      "[5]\tvalidation_0-rmse:1.89220\n",
      "[6]\tvalidation_0-rmse:1.87948\n",
      "[7]\tvalidation_0-rmse:1.86810\n",
      "[8]\tvalidation_0-rmse:1.85629\n",
      "[9]\tvalidation_0-rmse:1.84539\n",
      "[10]\tvalidation_0-rmse:1.83471\n",
      "[11]\tvalidation_0-rmse:1.82449\n",
      "[12]\tvalidation_0-rmse:1.81392\n",
      "[13]\tvalidation_0-rmse:1.80421\n",
      "[14]\tvalidation_0-rmse:1.79507\n",
      "[15]\tvalidation_0-rmse:1.78613\n",
      "[16]\tvalidation_0-rmse:1.77713\n",
      "[17]\tvalidation_0-rmse:1.76877\n",
      "[18]\tvalidation_0-rmse:1.76067\n",
      "[19]\tvalidation_0-rmse:1.75254\n",
      "[20]\tvalidation_0-rmse:1.74539\n",
      "[21]\tvalidation_0-rmse:1.73778\n",
      "[22]\tvalidation_0-rmse:1.73081\n",
      "[23]\tvalidation_0-rmse:1.72349\n",
      "[24]\tvalidation_0-rmse:1.71734\n",
      "[25]\tvalidation_0-rmse:1.71042\n",
      "[26]\tvalidation_0-rmse:1.70428\n",
      "[27]\tvalidation_0-rmse:1.69779\n",
      "[28]\tvalidation_0-rmse:1.69241\n",
      "[29]\tvalidation_0-rmse:1.68710\n",
      "[30]\tvalidation_0-rmse:1.68098\n",
      "[31]\tvalidation_0-rmse:1.67591\n",
      "[32]\tvalidation_0-rmse:1.67023\n",
      "[33]\tvalidation_0-rmse:1.66564\n",
      "[34]\tvalidation_0-rmse:1.66138\n",
      "[35]\tvalidation_0-rmse:1.65597\n",
      "[36]\tvalidation_0-rmse:1.65177\n",
      "[37]\tvalidation_0-rmse:1.64775\n",
      "[38]\tvalidation_0-rmse:1.64382\n",
      "[39]\tvalidation_0-rmse:1.63917\n",
      "[40]\tvalidation_0-rmse:1.63548\n",
      "[41]\tvalidation_0-rmse:1.63203\n",
      "[42]\tvalidation_0-rmse:1.62856\n",
      "[43]\tvalidation_0-rmse:1.62437\n",
      "[44]\tvalidation_0-rmse:1.62115\n",
      "[45]\tvalidation_0-rmse:1.61826\n",
      "[46]\tvalidation_0-rmse:1.61529\n",
      "[47]\tvalidation_0-rmse:1.61230\n",
      "[48]\tvalidation_0-rmse:1.60871\n",
      "[49]\tvalidation_0-rmse:1.60613\n",
      "[50]\tvalidation_0-rmse:1.60330\n",
      "[51]\tvalidation_0-rmse:1.60088\n",
      "[52]\tvalidation_0-rmse:1.59839\n",
      "[53]\tvalidation_0-rmse:1.59588\n",
      "[54]\tvalidation_0-rmse:1.59271\n",
      "[55]\tvalidation_0-rmse:1.59057\n",
      "[56]\tvalidation_0-rmse:1.58827\n",
      "[57]\tvalidation_0-rmse:1.58629\n",
      "[58]\tvalidation_0-rmse:1.58445\n",
      "[59]\tvalidation_0-rmse:1.58249\n",
      "[60]\tvalidation_0-rmse:1.58045\n",
      "[61]\tvalidation_0-rmse:1.57869\n",
      "[62]\tvalidation_0-rmse:1.57710\n",
      "[63]\tvalidation_0-rmse:1.57449\n",
      "[64]\tvalidation_0-rmse:1.57286\n",
      "[65]\tvalidation_0-rmse:1.57109\n",
      "[66]\tvalidation_0-rmse:1.56960\n",
      "[67]\tvalidation_0-rmse:1.56815\n",
      "[68]\tvalidation_0-rmse:1.56686\n",
      "[69]\tvalidation_0-rmse:1.56554\n",
      "[70]\tvalidation_0-rmse:1.56424\n",
      "[71]\tvalidation_0-rmse:1.56300\n",
      "[72]\tvalidation_0-rmse:1.56153\n",
      "[73]\tvalidation_0-rmse:1.56033\n",
      "[74]\tvalidation_0-rmse:1.55922\n",
      "[75]\tvalidation_0-rmse:1.55726\n",
      "[76]\tvalidation_0-rmse:1.55619\n",
      "[77]\tvalidation_0-rmse:1.55512\n",
      "[78]\tvalidation_0-rmse:1.55410\n",
      "[79]\tvalidation_0-rmse:1.55311\n",
      "[80]\tvalidation_0-rmse:1.55192\n",
      "[81]\tvalidation_0-rmse:1.55100\n",
      "[82]\tvalidation_0-rmse:1.55012\n",
      "[83]\tvalidation_0-rmse:1.54914\n",
      "[84]\tvalidation_0-rmse:1.54832\n",
      "[85]\tvalidation_0-rmse:1.54757\n",
      "[86]\tvalidation_0-rmse:1.54681\n",
      "[87]\tvalidation_0-rmse:1.54603\n",
      "[88]\tvalidation_0-rmse:1.54530\n",
      "[89]\tvalidation_0-rmse:1.54452\n",
      "[90]\tvalidation_0-rmse:1.54384\n",
      "[91]\tvalidation_0-rmse:1.54319\n",
      "[92]\tvalidation_0-rmse:1.54250\n",
      "[93]\tvalidation_0-rmse:1.54159\n",
      "[94]\tvalidation_0-rmse:1.54092\n",
      "[95]\tvalidation_0-rmse:1.54034\n",
      "[96]\tvalidation_0-rmse:1.53978\n",
      "[97]\tvalidation_0-rmse:1.53912\n",
      "[98]\tvalidation_0-rmse:1.53851\n",
      "[99]\tvalidation_0-rmse:1.53797\n",
      "[100]\tvalidation_0-rmse:1.53748\n",
      "[101]\tvalidation_0-rmse:1.53703\n",
      "[102]\tvalidation_0-rmse:1.53651\n",
      "[103]\tvalidation_0-rmse:1.53510\n",
      "[104]\tvalidation_0-rmse:1.53459\n",
      "[105]\tvalidation_0-rmse:1.53408\n",
      "[106]\tvalidation_0-rmse:1.53362\n",
      "[107]\tvalidation_0-rmse:1.53325\n",
      "[108]\tvalidation_0-rmse:1.53288\n",
      "[109]\tvalidation_0-rmse:1.53250\n",
      "[110]\tvalidation_0-rmse:1.53208\n",
      "[111]\tvalidation_0-rmse:1.53173\n",
      "[112]\tvalidation_0-rmse:1.53135\n",
      "[113]\tvalidation_0-rmse:1.53099\n",
      "[114]\tvalidation_0-rmse:1.53066\n",
      "[115]\tvalidation_0-rmse:1.53027\n",
      "[116]\tvalidation_0-rmse:1.52998\n",
      "[117]\tvalidation_0-rmse:1.52966\n",
      "[118]\tvalidation_0-rmse:1.52940\n",
      "[119]\tvalidation_0-rmse:1.52908\n",
      "[120]\tvalidation_0-rmse:1.52847\n",
      "[121]\tvalidation_0-rmse:1.52820\n",
      "[122]\tvalidation_0-rmse:1.52797\n",
      "[123]\tvalidation_0-rmse:1.52769\n",
      "[124]\tvalidation_0-rmse:1.52740\n",
      "[125]\tvalidation_0-rmse:1.52712\n",
      "[126]\tvalidation_0-rmse:1.52686\n",
      "[127]\tvalidation_0-rmse:1.52659\n",
      "[128]\tvalidation_0-rmse:1.52632\n",
      "[129]\tvalidation_0-rmse:1.52612\n",
      "[130]\tvalidation_0-rmse:1.52586\n",
      "[131]\tvalidation_0-rmse:1.52565\n",
      "[132]\tvalidation_0-rmse:1.52548\n",
      "[133]\tvalidation_0-rmse:1.52531\n",
      "[134]\tvalidation_0-rmse:1.52515\n",
      "[135]\tvalidation_0-rmse:1.52492\n",
      "[136]\tvalidation_0-rmse:1.52472\n",
      "[137]\tvalidation_0-rmse:1.52451\n",
      "[138]\tvalidation_0-rmse:1.52420\n",
      "[139]\tvalidation_0-rmse:1.52406\n",
      "[140]\tvalidation_0-rmse:1.52388\n",
      "[141]\tvalidation_0-rmse:1.52364\n",
      "[142]\tvalidation_0-rmse:1.52347\n",
      "[143]\tvalidation_0-rmse:1.52333\n",
      "[144]\tvalidation_0-rmse:1.52322\n",
      "[145]\tvalidation_0-rmse:1.52307\n",
      "[146]\tvalidation_0-rmse:1.52293\n",
      "[147]\tvalidation_0-rmse:1.52287\n",
      "[148]\tvalidation_0-rmse:1.52267\n",
      "[149]\tvalidation_0-rmse:1.52251\n",
      "[150]\tvalidation_0-rmse:1.52239\n",
      "[151]\tvalidation_0-rmse:1.52229\n",
      "[152]\tvalidation_0-rmse:1.52212\n",
      "[153]\tvalidation_0-rmse:1.52199\n",
      "[154]\tvalidation_0-rmse:1.52190\n",
      "[155]\tvalidation_0-rmse:1.52174\n",
      "[156]\tvalidation_0-rmse:1.52159\n",
      "[157]\tvalidation_0-rmse:1.52140\n",
      "[158]\tvalidation_0-rmse:1.52127\n",
      "[159]\tvalidation_0-rmse:1.52116\n",
      "[160]\tvalidation_0-rmse:1.52105\n",
      "[161]\tvalidation_0-rmse:1.52092\n",
      "[162]\tvalidation_0-rmse:1.52082\n",
      "[163]\tvalidation_0-rmse:1.52068\n",
      "[164]\tvalidation_0-rmse:1.52051\n",
      "[165]\tvalidation_0-rmse:1.52042\n",
      "[166]\tvalidation_0-rmse:1.52030\n",
      "[167]\tvalidation_0-rmse:1.52023\n",
      "[168]\tvalidation_0-rmse:1.52009\n",
      "[169]\tvalidation_0-rmse:1.52003\n",
      "[170]\tvalidation_0-rmse:1.51993\n",
      "[171]\tvalidation_0-rmse:1.51981\n",
      "[172]\tvalidation_0-rmse:1.51975\n",
      "[173]\tvalidation_0-rmse:1.51963\n",
      "[174]\tvalidation_0-rmse:1.51956\n",
      "[175]\tvalidation_0-rmse:1.51950\n",
      "[176]\tvalidation_0-rmse:1.51943\n",
      "[177]\tvalidation_0-rmse:1.51934\n",
      "[178]\tvalidation_0-rmse:1.51928\n",
      "[179]\tvalidation_0-rmse:1.51924\n",
      "[180]\tvalidation_0-rmse:1.51914\n",
      "[181]\tvalidation_0-rmse:1.51906\n",
      "[182]\tvalidation_0-rmse:1.51896\n",
      "[183]\tvalidation_0-rmse:1.51887\n",
      "[184]\tvalidation_0-rmse:1.51881\n",
      "[185]\tvalidation_0-rmse:1.51873\n",
      "[186]\tvalidation_0-rmse:1.51864\n",
      "[187]\tvalidation_0-rmse:1.51859\n",
      "[188]\tvalidation_0-rmse:1.51851\n",
      "[189]\tvalidation_0-rmse:1.51849\n",
      "[190]\tvalidation_0-rmse:1.51845\n",
      "[191]\tvalidation_0-rmse:1.51835\n",
      "[192]\tvalidation_0-rmse:1.51831\n",
      "[193]\tvalidation_0-rmse:1.51825\n",
      "[194]\tvalidation_0-rmse:1.51824\n",
      "[195]\tvalidation_0-rmse:1.51817\n",
      "[196]\tvalidation_0-rmse:1.51811\n",
      "[197]\tvalidation_0-rmse:1.51805\n",
      "[198]\tvalidation_0-rmse:1.51794\n",
      "[199]\tvalidation_0-rmse:1.51790\n",
      "[200]\tvalidation_0-rmse:1.51788\n",
      "[201]\tvalidation_0-rmse:1.51782\n",
      "[202]\tvalidation_0-rmse:1.51775\n",
      "[203]\tvalidation_0-rmse:1.51765\n",
      "[204]\tvalidation_0-rmse:1.51761\n",
      "[205]\tvalidation_0-rmse:1.51759\n",
      "[206]\tvalidation_0-rmse:1.51752\n",
      "[207]\tvalidation_0-rmse:1.51750\n",
      "[208]\tvalidation_0-rmse:1.51745\n",
      "[209]\tvalidation_0-rmse:1.51738\n",
      "[210]\tvalidation_0-rmse:1.51736\n",
      "[211]\tvalidation_0-rmse:1.51732\n",
      "[212]\tvalidation_0-rmse:1.51730\n",
      "[213]\tvalidation_0-rmse:1.51730\n",
      "[214]\tvalidation_0-rmse:1.51728\n",
      "[215]\tvalidation_0-rmse:1.51727\n",
      "[216]\tvalidation_0-rmse:1.51727\n",
      "[217]\tvalidation_0-rmse:1.51725\n",
      "[218]\tvalidation_0-rmse:1.51721\n",
      "[219]\tvalidation_0-rmse:1.51719\n",
      "[220]\tvalidation_0-rmse:1.51720\n",
      "[221]\tvalidation_0-rmse:1.51718\n",
      "[222]\tvalidation_0-rmse:1.51713\n",
      "[223]\tvalidation_0-rmse:1.51709\n",
      "[224]\tvalidation_0-rmse:1.51708\n",
      "[225]\tvalidation_0-rmse:1.51709\n",
      "[226]\tvalidation_0-rmse:1.51705\n",
      "[227]\tvalidation_0-rmse:1.51703\n",
      "[228]\tvalidation_0-rmse:1.51704\n",
      "[229]\tvalidation_0-rmse:1.51695\n",
      "[230]\tvalidation_0-rmse:1.51694\n",
      "[231]\tvalidation_0-rmse:1.51696\n",
      "[232]\tvalidation_0-rmse:1.51694\n",
      "[233]\tvalidation_0-rmse:1.51691\n",
      "[234]\tvalidation_0-rmse:1.51687\n",
      "[235]\tvalidation_0-rmse:1.51686\n",
      "[236]\tvalidation_0-rmse:1.51685\n",
      "[237]\tvalidation_0-rmse:1.51680\n",
      "[238]\tvalidation_0-rmse:1.51678\n",
      "[239]\tvalidation_0-rmse:1.51677\n",
      "[240]\tvalidation_0-rmse:1.51679\n",
      "[241]\tvalidation_0-rmse:1.51679\n",
      "[242]\tvalidation_0-rmse:1.51675\n",
      "[243]\tvalidation_0-rmse:1.51670\n",
      "[244]\tvalidation_0-rmse:1.51665\n",
      "[245]\tvalidation_0-rmse:1.51664\n",
      "[246]\tvalidation_0-rmse:1.51664\n",
      "[247]\tvalidation_0-rmse:1.51663\n",
      "[248]\tvalidation_0-rmse:1.51656\n",
      "[249]\tvalidation_0-rmse:1.51655\n",
      "[250]\tvalidation_0-rmse:1.51654\n",
      "[251]\tvalidation_0-rmse:1.51654\n",
      "[252]\tvalidation_0-rmse:1.51655\n",
      "[253]\tvalidation_0-rmse:1.51656\n",
      "[254]\tvalidation_0-rmse:1.51656\n",
      "[255]\tvalidation_0-rmse:1.51655\n",
      "[256]\tvalidation_0-rmse:1.51653\n",
      "[257]\tvalidation_0-rmse:1.51649\n",
      "[258]\tvalidation_0-rmse:1.51649\n",
      "[259]\tvalidation_0-rmse:1.51648\n",
      "[260]\tvalidation_0-rmse:1.51649\n",
      "[261]\tvalidation_0-rmse:1.51647\n",
      "[262]\tvalidation_0-rmse:1.51647\n",
      "[263]\tvalidation_0-rmse:1.51647\n",
      "[264]\tvalidation_0-rmse:1.51647\n",
      "[265]\tvalidation_0-rmse:1.51645\n",
      "[266]\tvalidation_0-rmse:1.51643\n",
      "[267]\tvalidation_0-rmse:1.51647\n",
      "[268]\tvalidation_0-rmse:1.51649\n",
      "[269]\tvalidation_0-rmse:1.51649\n",
      "[270]\tvalidation_0-rmse:1.51651\n",
      "[271]\tvalidation_0-rmse:1.51651\n",
      "[272]\tvalidation_0-rmse:1.51651\n",
      "[273]\tvalidation_0-rmse:1.51650\n",
      "[274]\tvalidation_0-rmse:1.51649\n",
      "[275]\tvalidation_0-rmse:1.51649\n",
      "[276]\tvalidation_0-rmse:1.51648\n",
      "[277]\tvalidation_0-rmse:1.51649\n",
      "[278]\tvalidation_0-rmse:1.51651\n",
      "[279]\tvalidation_0-rmse:1.51654\n",
      "[280]\tvalidation_0-rmse:1.51653\n",
      "[281]\tvalidation_0-rmse:1.51654\n",
      "[282]\tvalidation_0-rmse:1.51656\n",
      "[283]\tvalidation_0-rmse:1.51652\n",
      "[284]\tvalidation_0-rmse:1.51650\n",
      "[285]\tvalidation_0-rmse:1.51649\n",
      "[286]\tvalidation_0-rmse:1.51650\n",
      "[287]\tvalidation_0-rmse:1.51651\n",
      "[288]\tvalidation_0-rmse:1.51647\n",
      "[289]\tvalidation_0-rmse:1.51647\n",
      "[290]\tvalidation_0-rmse:1.51648\n",
      "[291]\tvalidation_0-rmse:1.51647\n",
      "[292]\tvalidation_0-rmse:1.51648\n",
      "[293]\tvalidation_0-rmse:1.51644\n",
      "[294]\tvalidation_0-rmse:1.51645\n",
      "[295]\tvalidation_0-rmse:1.51645\n",
      "[296]\tvalidation_0-rmse:1.51645\n"
     ]
    },
    {
     "data": {
      "text/plain": [
       "XGBRegressor(alpha=0.1, base_score=0.5, booster='gbtree', colsample_bylevel=1,\n",
       "             colsample_bynode=1, colsample_bytree=1, eta=0.02,\n",
       "             eval_metric='rmse', gamma=1.3, gpu_id=-1, importance_type='gain',\n",
       "             interaction_constraints='', lambda=2.3, learning_rate=0.0199999996,\n",
       "             max_delta_step=0, max_depth=8, min_child_weight=67, missing=nan,\n",
       "             monotone_constraints='()', n_estimators=1000, n_jobs=8,\n",
       "             num_parallel_tree=1, objective='reg:squarederror', random_state=0,\n",
       "             reg_alpha=0.100000001, reg_lambda=2.29999995, scale_pos_weight=1,\n",
       "             subsample=0.8, tree_method='exact', validate_parameters=1, ...)"
      ]
     },
     "execution_count": 23,
     "metadata": {},
     "output_type": "execute_result"
    }
   ],
   "source": [
    "# Train and fit model using best parameters\n",
    "xgbr = xgboost.XGBRegressor(**xgb_params, n_estimators=1000)\n",
    "xgbr.fit(X_train, y_train,\n",
    "         eval_set=[(X_val, y_val)], early_stopping_rounds=30,\n",
    "         eval_metric='rmse')"
   ]
  },
  {
   "cell_type": "code",
   "execution_count": 24,
   "metadata": {
    "collapsed": true,
    "jupyter": {
     "outputs_hidden": true
    }
   },
   "outputs": [
    {
     "data": {
      "image/png": "[encoded data removed]",
      "text/plain": [
       "<Figure size 432x288 with 1 Axes>"
      ]
     },
     "metadata": {
      "needs_background": "light"
     },
     "output_type": "display_data"
    }
   ],
   "source": [
    "# Plot feature importance\n",
    "xgboost.plot_importance(xgbr)\n",
    "plt.rcParams['figure.figsize'] = [9, 6]\n",
    "plt.show()"
   ]
  },
  {
   "cell_type": "markdown",
   "metadata": {},
   "source": [
    "<h3>4. Predict and Create Submission Dataset</h3>"
   ]
  },
  {
   "cell_type": "code",
   "execution_count": 26,
   "metadata": {
    "collapsed": true,
    "jupyter": {
     "outputs_hidden": true
    }
   },
   "outputs": [],
   "source": [
    "dfSubmit = dfTest_agg[['fullVisitorId']].copy()\n",
    "dfSubmit['PredictedLogRevenue'] = xgbr.predict(X_test)\n",
    "dfSubmit.loc[dfSubmit['PredictedLogRevenue'] < 0, 'PredictedLogRevenue'] = 0\n",
    "dfSubmit.to_csv(\"xgb_submission_g.csv\", index=False)"
   ]
  },
  {
   "cell_type": "markdown",
   "metadata": {},
   "source": [
    "$\\textrm{RMSE} = \\sqrt{\\frac{1}{n} \\sum_{i=1}^{n} (y_i - \\hat{y}_i)^2}$"
   ]
  }
 ],
 "metadata": {
  "kernelspec": {
   "display_name": "Python 3",
   "language": "python",
   "name": "python3"
  },
  "language_info": {
   "codemirror_mode": {
    "name": "ipython",
    "version": 3
   },
   "file_extension": ".py",
   "mimetype": "text/x-python",
   "name": "python",
   "nbconvert_exporter": "python",
   "pygments_lexer": "ipython3",
   "version": "3.8.1"
  }
 },
 "nbformat": 4,
 "nbformat_minor": 4
}
